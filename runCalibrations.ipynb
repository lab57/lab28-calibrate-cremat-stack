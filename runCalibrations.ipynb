{
 "cells": [
  {
   "cell_type": "markdown",
   "metadata": {},
   "source": [
    "# Calibrate Cremat Preamp + Shaper\n",
    "\n",
    "See ./picoScopeControl for implementation of functions. picosdk required. run\n",
    "\n",
    " `python -m pip install . `\n",
    "\n",
    "_after_ installing the picosdk on the system"
   ]
  },
  {
   "cell_type": "markdown",
   "metadata": {},
   "source": [
    "## Open Device (only do once)"
   ]
  },
  {
   "cell_type": "code",
   "execution_count": 72,
   "metadata": {},
   "outputs": [
    {
     "name": "stdout",
     "output_type": "stream",
     "text": [
      "Opening unit\n"
     ]
    },
    {
     "ename": "PicoSDKCtypesError",
     "evalue": "PicoSDK returned 'PICO_NOT_FOUND'",
     "output_type": "error",
     "traceback": [
      "\u001b[1;31m---------------------------------------------------------------------------\u001b[0m",
      "\u001b[1;31mPicoSDKCtypesError\u001b[0m                        Traceback (most recent call last)",
      "Cell \u001b[1;32mIn[72], line 3\u001b[0m\n\u001b[0;32m      1\u001b[0m \u001b[38;5;28;01mfrom\u001b[39;00m \u001b[38;5;21;01mpicoScopeControl\u001b[39;00m \u001b[38;5;28;01mimport\u001b[39;00m \u001b[38;5;241m*\u001b[39m\n\u001b[0;32m      2\u001b[0m \u001b[38;5;28;01mfrom\u001b[39;00m \u001b[38;5;21;01mpprint\u001b[39;00m \u001b[38;5;28;01mimport\u001b[39;00m pprint\n\u001b[1;32m----> 3\u001b[0m chandle \u001b[38;5;241m=\u001b[39m \u001b[43mopenDevice\u001b[49m\u001b[43m(\u001b[49m\u001b[43m)\u001b[49m\n\u001b[0;32m      4\u001b[0m pprint(rangeMap)\n",
      "File \u001b[1;32mc:\\Users\\lucba\\Documents\\picosdk-python-wrappers\\picoScopeControl.py:35\u001b[0m, in \u001b[0;36mopenDevice\u001b[1;34m()\u001b[0m\n\u001b[0;32m     32\u001b[0m status[\u001b[38;5;124m\"\u001b[39m\u001b[38;5;124mopenunit\u001b[39m\u001b[38;5;124m\"\u001b[39m] \u001b[38;5;241m=\u001b[39m ps\u001b[38;5;241m.\u001b[39mps3000aOpenUnit(ctypes\u001b[38;5;241m.\u001b[39mbyref(chandle), \u001b[38;5;28;01mNone\u001b[39;00m)\n\u001b[0;32m     34\u001b[0m \u001b[38;5;28;01mtry\u001b[39;00m:\n\u001b[1;32m---> 35\u001b[0m     \u001b[43massert_pico_ok\u001b[49m\u001b[43m(\u001b[49m\u001b[43mstatus\u001b[49m\u001b[43m[\u001b[49m\u001b[38;5;124;43m\"\u001b[39;49m\u001b[38;5;124;43mopenunit\u001b[39;49m\u001b[38;5;124;43m\"\u001b[39;49m\u001b[43m]\u001b[49m\u001b[43m)\u001b[49m\n\u001b[0;32m     36\u001b[0m \u001b[38;5;28;01mexcept\u001b[39;00m:\n\u001b[0;32m     37\u001b[0m \n\u001b[0;32m     38\u001b[0m     \u001b[38;5;66;03m# powerstate becomes the status number of openunit\u001b[39;00m\n\u001b[0;32m     39\u001b[0m     powerstate \u001b[38;5;241m=\u001b[39m status[\u001b[38;5;124m\"\u001b[39m\u001b[38;5;124mopenunit\u001b[39m\u001b[38;5;124m\"\u001b[39m]\n",
      "File \u001b[1;32mc:\\Users\\lucba\\Documents\\picosdk-python-wrappers\\picosdk\\functions.py:160\u001b[0m, in \u001b[0;36massert_pico_ok\u001b[1;34m(status)\u001b[0m\n\u001b[0;32m    158\u001b[0m \u001b[38;5;66;03m# checks for PICO_OK status return\u001b[39;00m\n\u001b[0;32m    159\u001b[0m \u001b[38;5;28;01mif\u001b[39;00m status \u001b[38;5;241m!=\u001b[39m PICO_STATUS[\u001b[38;5;124m'\u001b[39m\u001b[38;5;124mPICO_OK\u001b[39m\u001b[38;5;124m'\u001b[39m]:\n\u001b[1;32m--> 160\u001b[0m     \u001b[38;5;28;01mraise\u001b[39;00m PicoSDKCtypesError(\u001b[38;5;124m\"\u001b[39m\u001b[38;5;124mPicoSDK returned \u001b[39m\u001b[38;5;124m'\u001b[39m\u001b[38;5;132;01m{}\u001b[39;00m\u001b[38;5;124m'\u001b[39m\u001b[38;5;124m\"\u001b[39m\u001b[38;5;241m.\u001b[39mformat(PICO_STATUS_LOOKUP[status]))\n",
      "\u001b[1;31mPicoSDKCtypesError\u001b[0m: PicoSDK returned 'PICO_NOT_FOUND'"
     ]
    }
   ],
   "source": [
    "from picoScopeControl import *\n",
    "from pprint import pprint\n",
    "chandle = openDevice()\n",
    "pprint(rangeMap)"
   ]
  },
  {
   "cell_type": "markdown",
   "metadata": {},
   "source": [
    "### Configure metadata"
   ]
  },
  {
   "cell_type": "code",
   "execution_count": 40,
   "metadata": {},
   "outputs": [],
   "source": [
    "metadata = {\n",
    "    \"switchconfig\" : \"00\",\n",
    "    \"stacknum\" : 2\n",
    "}"
   ]
  },
  {
   "cell_type": "markdown",
   "metadata": {},
   "source": [
    "## Test Measurement and Fit"
   ]
  },
  {
   "cell_type": "code",
   "execution_count": null,
   "metadata": {},
   "outputs": [],
   "source": [
    "t, data = takeDataVal(chandle, .5, rangeMap[1], trigger=0.5, window=5e-6)\n",
    "pps, errs = fitGaussian(t, data)\n",
    "plt.plot(t, data)\n",
    "plt.plot(t, gauss(t, *pps))\n",
    "plt.show()"
   ]
  },
  {
   "cell_type": "markdown",
   "metadata": {},
   "source": [
    "## Run Measurements"
   ]
  },
  {
   "cell_type": "code",
   "execution_count": 22,
   "metadata": {},
   "outputs": [
    {
     "name": "stdout",
     "output_type": "stream",
     "text": [
      "Setting square wave f=90 hz, A=0.05 V\n",
      "Sampling Data. Channel=2, trigger=50.0mV, window=5e-06, range=7\n",
      "Done\n",
      "\n",
      "Setting square wave f=90 hz, A=0.1073529411764706 V\n",
      "Sampling Data. Channel=2, trigger=107.3529411764706mV, window=5e-06, range=7\n",
      "Done\n",
      "\n",
      "Setting square wave f=90 hz, A=0.16470588235294117 V\n",
      "Sampling Data. Channel=2, trigger=164.7058823529412mV, window=5e-06, range=7\n",
      "Done\n",
      "\n",
      "Setting square wave f=90 hz, A=0.22205882352941175 V\n",
      "Sampling Data. Channel=2, trigger=222.05882352941174mV, window=5e-06, range=7\n",
      "Done\n",
      "\n",
      "Setting square wave f=90 hz, A=0.27941176470588236 V\n",
      "Sampling Data. Channel=2, trigger=279.4117647058824mV, window=5e-06, range=7\n",
      "Done\n",
      "\n",
      "Setting square wave f=90 hz, A=0.3367647058823529 V\n",
      "Sampling Data. Channel=2, trigger=336.7647058823529mV, window=5e-06, range=7\n",
      "Done\n",
      "\n",
      "Setting square wave f=90 hz, A=0.3941176470588235 V\n",
      "Sampling Data. Channel=2, trigger=394.11764705882354mV, window=5e-06, range=7\n",
      "Done\n",
      "\n",
      "Setting square wave f=90 hz, A=0.45147058823529407 V\n",
      "Sampling Data. Channel=2, trigger=451.4705882352941mV, window=5e-06, range=7\n",
      "Done\n",
      "\n",
      "Setting square wave f=90 hz, A=0.5088235294117647 V\n",
      "Sampling Data. Channel=2, trigger=508.8235294117647mV, window=5e-06, range=7\n",
      "Done\n",
      "\n",
      "Setting square wave f=90 hz, A=0.5661764705882353 V\n",
      "Sampling Data. Channel=2, trigger=566.1764705882352mV, window=5e-06, range=7\n",
      "Done\n",
      "\n",
      "Setting square wave f=90 hz, A=0.6235294117647059 V\n",
      "Sampling Data. Channel=2, trigger=623.5294117647059mV, window=5e-06, range=7\n",
      "Done\n",
      "\n",
      "Setting square wave f=90 hz, A=0.6808823529411765 V\n",
      "Sampling Data. Channel=2, trigger=680.8823529411765mV, window=5e-06, range=7\n",
      "Done\n",
      "\n",
      "Setting square wave f=90 hz, A=0.7382352941176471 V\n",
      "Sampling Data. Channel=2, trigger=738.2352941176471mV, window=5e-06, range=7\n",
      "Done\n",
      "\n",
      "Setting square wave f=90 hz, A=0.7955882352941177 V\n",
      "Sampling Data. Channel=2, trigger=795.5882352941177mV, window=5e-06, range=7\n",
      "Done\n",
      "\n",
      "Setting square wave f=90 hz, A=0.8529411764705882 V\n",
      "Sampling Data. Channel=2, trigger=852.9411764705882mV, window=5e-06, range=7\n",
      "Done\n",
      "\n",
      "Setting square wave f=90 hz, A=0.9102941176470588 V\n",
      "Sampling Data. Channel=2, trigger=910.2941176470588mV, window=5e-06, range=7\n",
      "Done\n",
      "\n",
      "Setting square wave f=90 hz, A=0.9676470588235294 V\n",
      "Sampling Data. Channel=2, trigger=967.6470588235294mV, window=5e-06, range=7\n",
      "Done\n",
      "\n",
      "Setting square wave f=90 hz, A=1.025 V\n",
      "Sampling Data. Channel=2, trigger=1025.0mV, window=5e-06, range=7\n",
      "Done\n",
      "\n",
      "Setting square wave f=90 hz, A=1.0823529411764705 V\n",
      "Sampling Data. Channel=2, trigger=1082.3529411764705mV, window=5e-06, range=7\n",
      "Done\n",
      "\n",
      "Setting square wave f=90 hz, A=1.1397058823529411 V\n",
      "Sampling Data. Channel=2, trigger=1139.7058823529412mV, window=5e-06, range=7\n",
      "Done\n",
      "\n",
      "Setting square wave f=90 hz, A=1.1970588235294117 V\n",
      "Sampling Data. Channel=2, trigger=1197.0588235294117mV, window=5e-06, range=7\n",
      "Done\n",
      "\n",
      "Setting square wave f=90 hz, A=1.2544117647058823 V\n",
      "Sampling Data. Channel=2, trigger=1254.4117647058824mV, window=5e-06, range=7\n",
      "Done\n",
      "\n",
      "Setting square wave f=90 hz, A=1.311764705882353 V\n",
      "Sampling Data. Channel=2, trigger=1311.764705882353mV, window=5e-06, range=7\n",
      "Done\n",
      "\n",
      "Setting square wave f=90 hz, A=1.3691176470588236 V\n",
      "Sampling Data. Channel=2, trigger=1369.1176470588236mV, window=5e-06, range=7\n",
      "Done\n",
      "\n",
      "Setting square wave f=90 hz, A=1.4264705882352942 V\n",
      "Sampling Data. Channel=2, trigger=1426.4705882352941mV, window=5e-06, range=7\n",
      "Done\n",
      "\n",
      "Setting square wave f=90 hz, A=1.4838235294117648 V\n",
      "Sampling Data. Channel=2, trigger=1483.8235294117649mV, window=5e-06, range=7\n",
      "Done\n",
      "\n",
      "Setting square wave f=90 hz, A=1.5411764705882354 V\n",
      "Sampling Data. Channel=2, trigger=1541.1764705882354mV, window=5e-06, range=7\n",
      "Done\n",
      "\n",
      "Setting square wave f=90 hz, A=1.5985294117647058 V\n",
      "Sampling Data. Channel=2, trigger=1598.5294117647059mV, window=5e-06, range=7\n",
      "Done\n",
      "\n",
      "Setting square wave f=90 hz, A=1.6558823529411764 V\n",
      "Sampling Data. Channel=2, trigger=1655.8823529411764mV, window=5e-06, range=7\n",
      "Done\n",
      "\n",
      "Maxed out range\n",
      "Signal out of range, increasing max range to +- 5 V\n",
      "Setting square wave f=90 hz, A=1.6558823529411764 V\n",
      "Sampling Data. Channel=2, trigger=1655.8823529411764mV, window=5e-06, range=8\n",
      "Done\n",
      "\n",
      "Setting square wave f=90 hz, A=1.713235294117647 V\n",
      "Sampling Data. Channel=2, trigger=1713.235294117647mV, window=5e-06, range=8\n",
      "Done\n",
      "\n",
      "Setting square wave f=90 hz, A=1.7705882352941176 V\n",
      "Sampling Data. Channel=2, trigger=1770.5882352941176mV, window=5e-06, range=8\n",
      "Done\n",
      "\n",
      "Setting square wave f=90 hz, A=1.8279411764705882 V\n",
      "Sampling Data. Channel=2, trigger=1827.9411764705883mV, window=5e-06, range=8\n",
      "Done\n",
      "\n",
      "Setting square wave f=90 hz, A=1.8852941176470588 V\n",
      "Sampling Data. Channel=2, trigger=1885.2941176470588mV, window=5e-06, range=8\n",
      "Done\n",
      "\n",
      "Setting square wave f=90 hz, A=1.9426470588235294 V\n",
      "Sampling Data. Channel=2, trigger=1942.6470588235295mV, window=5e-06, range=8\n",
      "Done\n",
      "\n",
      "Setting square wave f=90 hz, A=2.0 V\n",
      "Sampling Data. Channel=2, trigger=2000.0mV, window=5e-06, range=8\n",
      "Done\n",
      "\n",
      "Fitting Gaussians\n"
     ]
    },
    {
     "name": "stderr",
     "output_type": "stream",
     "text": [
      "35it [00:00, 327.05it/s]\n"
     ]
    }
   ],
   "source": [
    "\n",
    "input_vs = np.linspace(.05, 2, 35) #input voltages to sweep\n",
    "#trigger_mv = 200 #trigger\n",
    "trigger_mvs = input_vs*1e3 #list version, NOTE must be in mv\n",
    "window = 5e-6 #seconds, width of capture\n",
    "\n",
    "\n",
    "initRange = rangeMap[2] #inial voltage range for device\n",
    "t, datas = getSamples(chandle,input_vs, initRange, trigger_mvs, window)\n",
    "#plotSample(t, data)\n",
    "gains, gains_err = getGains(t, datas)"
   ]
  },
  {
   "cell_type": "markdown",
   "metadata": {},
   "source": [
    "## Create Plot"
   ]
  },
  {
   "cell_type": "code",
   "execution_count": 69,
   "metadata": {},
   "outputs": [
    {
     "data": {
      "image/png": "[encoded data removed]",
      "text/plain": [
       "<Figure size 1000x700 with 1 Axes>"
      ]
     },
     "metadata": {},
     "output_type": "display_data"
    }
   ],
   "source": [
    "## DATE\n",
    "from datetime import datetime\n",
    "now = datetime.now() # current date and time\n",
    "datestr = now.strftime(\"%m-%d-%Y\")\n",
    "\n",
    "## Convert units\n",
    "input_charges = input_vs * 1 #times 1 pF, convert to pF\n",
    "output_V = np.asarray(gains) * 1e-3 #mV to V\n",
    "output_err = np.asarray(gains_err) * 1e-3\n",
    "\n",
    "## Fit linear function\n",
    "linear = lambda x, m: m*x\n",
    "pps, cov = curve_fit(linear, input_charges, output_V)\n",
    "perr = np.sqrt(np.diag(cov))\n",
    "\n",
    "\n",
    "## Plot\n",
    "plt.figure(figsize=(10, 7))\n",
    "\n",
    "plt.errorbar(input_charges, output_V, yerr=output_err, capsize=3, fmt=\".\",\n",
    "             label=\"Data\")\n",
    "plt.plot(input_charges, linear(input_charges, *pps), label=\"Fit\")\n",
    "\n",
    "plt.title(\"Output Voltage vs Input Charge Pulse\")\n",
    "plt.xlabel(\"Input Charge Pulse (pC)\")\n",
    "plt.ylabel(\"Output Amplitude (V)\")\n",
    "plt.legend(loc=\"lower right\")\n",
    "\n",
    "\n",
    "## annotations\n",
    "x = .05\n",
    "y = .9\n",
    "y_spacing = 0.07\n",
    "\n",
    "# Gain label\n",
    "plt.annotate(f\"Gain: {pps[0] : .4g} +- {perr[0] : .1g} V/pC\", (x, y), xycoords=\"axes fraction\")\n",
    "\n",
    "\n",
    "# Label all metadata fields\n",
    "for item in metadata.keys():\n",
    "    y -= y_spacing #shift text down\n",
    "    plt.annotate(f\"{item}: {metadata[item]}\", (x, y) , xycoords=\"axes fraction\")\n",
    "\n",
    "# label date of calibration\n",
    "y -= y_spacing\n",
    "plt.annotate(f\"Date: {datestr}\", (x, y) , xycoords=\"axes fraction\")\n",
    "\n",
    "## give file unique name, save to png and svg\n",
    "out_name = f\"out-{datestr}\"\n",
    "for key in metadata.keys():\n",
    "    out_name += f\"-{metadata[key]}\"\n",
    "    \n",
    "plt.savefig(f\"./out/{out_name}.svg\")\n",
    "\n",
    "plt.savefig(f\"./out/{out_name}.png\")\n",
    "\n",
    "\n",
    "plt.show()"
   ]
  },
  {
   "cell_type": "markdown",
   "metadata": {},
   "source": [
    "## Close Unit (do one at the end)"
   ]
  },
  {
   "cell_type": "code",
   "execution_count": 20,
   "metadata": {},
   "outputs": [
    {
     "name": "stdout",
     "output_type": "stream",
     "text": [
      "Closing Unit\n",
      "Closed\n"
     ]
    }
   ],
   "source": [
    "from picosdk.ps3000a import ps3000a as ps\n",
    "print(\"Closing Unit\")\n",
    "# Closes the unit\n",
    "# Handle = chandle\n",
    "status = ps.ps3000aCloseUnit(chandle)\n",
    "assert_pico_ok(status)\n",
    "\n",
    "print(\"Closed\")"
   ]
  },
  {
   "cell_type": "code",
   "execution_count": null,
   "metadata": {},
   "outputs": [],
   "source": [
    "pass"
   ]
  }
 ],
 "metadata": {
  "interpreter": {
   "hash": "91f530ef8f1c256f129a582713406b44daedf2443bcb1a0781ab82414e6e1942"
  },
  "kernelspec": {
   "display_name": "Python 3.12.3 64-bit",
   "language": "python",
   "name": "python3"
  },
  "language_info": {
   "codemirror_mode": {
    "name": "ipython",
    "version": 3
   },
   "file_extension": ".py",
   "mimetype": "text/x-python",
   "name": "python",
   "nbconvert_exporter": "python",
   "pygments_lexer": "ipython3",
   "version": "3.12.3"
  },
  "orig_nbformat": 4
 },
 "nbformat": 4,
 "nbformat_minor": 2
}
